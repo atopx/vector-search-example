{
 "cells": [
  {
   "cell_type": "code",
   "execution_count": 1,
   "metadata": {},
   "outputs": [
    {
     "name": "stdout",
     "output_type": "stream",
     "text": [
      "Looking in indexes: https://pypi.org/simple, https://pypi.ngc.nvidia.com\n",
      "Requirement already satisfied: faiss-cpu in /home/zengqiang.ren/miniconda3/lib/python3.8/site-packages (1.7.1.post2)\n"
     ]
    }
   ],
   "source": [
    "!pip install faiss-cpu"
   ]
  },
  {
   "cell_type": "code",
   "execution_count": 1,
   "metadata": {},
   "outputs": [],
   "source": [
    "import numpy as np\n",
    "d = 64                           # dimension\n",
    "nb = 100000                      # database size\n",
    "nq = 10000                       # nb of queries\n",
    "np.random.seed(1234)             # make reproducible\n",
    "xb = np.random.random((nb, d)).astype('float32')\n",
    "xb[:, 0] += np.arange(nb) / 1000.\n",
    "xq = np.random.random((nq, d)).astype('float32')\n",
    "xq[:, 0] += np.arange(nq) / 1000.\n"
   ]
  },
  {
   "cell_type": "code",
   "execution_count": 2,
   "metadata": {},
   "outputs": [
    {
     "name": "stdout",
     "output_type": "stream",
     "text": [
      "True\n",
      "(100000, 64)\n",
      "100000\n"
     ]
    }
   ],
   "source": [
    "import faiss                   # make faiss available\n",
    "index = faiss.IndexFlatL2(d)   # build the index\n",
    "print(index.is_trained)\n",
    "print(xb.shape)\n",
    "index.add(xb)                  # add vectors to the index\n",
    "print(index.ntotal)\n"
   ]
  },
  {
   "cell_type": "code",
   "execution_count": 3,
   "metadata": {},
   "outputs": [
    {
     "name": "stdout",
     "output_type": "stream",
     "text": [
      "[0.19151945 0.62210876 0.43772775 0.7853586  0.77997583 0.2725926\n",
      " 0.27646425 0.8018722  0.95813936 0.87593263 0.35781726 0.5009951\n",
      " 0.6834629  0.71270204 0.37025076 0.5611962  0.50308317 0.01376845\n",
      " 0.7728266  0.8826412  0.364886   0.6153962  0.07538124 0.368824\n",
      " 0.9331401  0.65137815 0.39720258 0.78873014 0.31683612 0.56809866\n",
      " 0.8691274  0.4361734  0.8021476  0.14376682 0.70426095 0.7045813\n",
      " 0.21879211 0.92486763 0.44214076 0.90931594 0.05980922 0.18428709\n",
      " 0.04735528 0.6748809  0.59462476 0.5333102  0.04332406 0.5614331\n",
      " 0.32966843 0.5029668  0.11189432 0.6071937  0.5659447  0.00676406\n",
      " 0.6174417  0.9121229  0.7905241  0.99208146 0.95880175 0.7919641\n",
      " 0.28525096 0.62491673 0.4780938  0.19567518]\n",
      "[0.81432974 0.7409969  0.8915324  0.02642949 0.24954738 0.75948536\n",
      " 0.33756447 0.0388501  0.06253924 0.04496585 0.6500265  0.14300306\n",
      " 0.10555115 0.7554373  0.8733019  0.91065574 0.949595   0.4678057\n",
      " 0.7957018  0.06088004 0.5086471  0.7798314  0.42084002 0.49393055\n",
      " 0.51475203 0.59598726 0.8164803  0.6895009  0.42959374 0.8051452\n",
      " 0.08729313 0.0663529  0.0201008  0.677681   0.8932952  0.41095483\n",
      " 0.16123782 0.14441694 0.1827087  0.6027973  0.48050675 0.9779244\n",
      " 0.6363663  0.18064964 0.13591066 0.8322959  0.5291623  0.31196308\n",
      " 0.45191374 0.5528666  0.06121221 0.83773404 0.44387    0.1658945\n",
      " 0.01169583 0.33254945 0.22699533 0.46597633 0.06443579 0.9420383\n",
      " 0.36051401 0.72459674 0.893881   0.6574571 ]\n"
     ]
    }
   ],
   "source": [
    "print(xb[0])\n",
    "print(xq[0])"
   ]
  },
  {
   "cell_type": "code",
   "execution_count": null,
   "metadata": {
    "pycharm": {
     "is_executing": true,
     "name": "#%%\n"
    }
   },
   "outputs": [],
   "source": [
    "k = 4                          # we want to see 4 nearest neighbors\n",
    "D, I = index.search(xb[:5], k) # sanity check\n",
    "print(I)\n",
    "print(D)\n",
    "print(\">>>\")\n",
    "print(xq)\n",
    "print(\">>>\")\n",
    "D, I = index.search(xq, k)     # actual search\n",
    "print(I[:5])                   # neighbors of the 5 first queries\n",
    "print(I[-5:])                  # neighbors of the 5 last queries"
   ]
  }
 ],
 "metadata": {
  "kernelspec": {
   "display_name": "Python 3 (ipykernel)",
   "language": "python",
   "name": "python3"
  },
  "language_info": {
   "codemirror_mode": {
    "name": "ipython",
    "version": 3
   },
   "file_extension": ".py",
   "mimetype": "text/x-python",
   "name": "python",
   "nbconvert_exporter": "python",
   "pygments_lexer": "ipython3",
   "version": "3.8.12"
  }
 },
 "nbformat": 4,
 "nbformat_minor": 4
}